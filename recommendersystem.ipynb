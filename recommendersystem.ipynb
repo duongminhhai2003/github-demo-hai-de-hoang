{
 "cells": [
  {
   "cell_type": "code",
   "execution_count": 93,
   "metadata": {},
   "outputs": [],
   "source": [
    "import numpy as np\n",
    "import pandas as pd\n",
    "from __future__ import print_function\n"
   ]
  },
  {
   "cell_type": "code",
   "execution_count": 94,
   "metadata": {},
   "outputs": [
    {
     "data": {
      "text/plain": [
       "'number of n user 943.'"
      ]
     },
     "execution_count": 94,
     "metadata": {},
     "output_type": "execute_result"
    }
   ],
   "source": [
    "path = 'D:\\ml-data\\dataset\\ml-100k\\\\'\n",
    "u_cols = ['user_id','age','sex','occupation','zip_code']\n",
    "users = pd.read_csv(path + 'u.user',sep = '|',names = u_cols)\n",
    "n_users = users.shape[0]\n",
    "'number of n user {}.'.format(n_users)\n"
   ]
  },
  {
   "cell_type": "code",
   "execution_count": 95,
   "metadata": {},
   "outputs": [
    {
     "data": {
      "text/plain": [
       "'users : 943'"
      ]
     },
     "execution_count": 95,
     "metadata": {},
     "output_type": "execute_result"
    }
   ],
   "source": [
    "f'users : {n_users}'"
   ]
  },
  {
   "cell_type": "code",
   "execution_count": 96,
   "metadata": {},
   "outputs": [
    {
     "name": "stdout",
     "output_type": "stream",
     "text": [
      "       user_id  movie_id  rating  unix_timestamp\n",
      "0            1         1       5       874965758\n",
      "1            1         2       3       876893171\n",
      "2            1         3       4       878542960\n",
      "3            1         4       3       876893119\n",
      "4            1         5       3       889751712\n",
      "...        ...       ...     ...             ...\n",
      "90565      943      1047       2       875502146\n",
      "90566      943      1074       4       888640250\n",
      "90567      943      1188       3       888640250\n",
      "90568      943      1228       3       888640275\n",
      "90569      943      1330       3       888692465\n",
      "\n",
      "[90570 rows x 4 columns]\n"
     ]
    }
   ],
   "source": [
    "r_cols = ['user_id','movie_id','rating','unix_timestamp']\n",
    "ratings_base = pd.read_csv(path + 'ua.base',sep = '\\t',names = r_cols)\n",
    "ratings_test = pd.read_csv(path + 'ua.test',sep='\\t',names = r_cols)\n",
    "\n",
    "print(ratings_base)"
   ]
  },
  {
   "cell_type": "code",
   "execution_count": 97,
   "metadata": {},
   "outputs": [
    {
     "data": {
      "text/plain": [
       "matrix([[        1,         1,         5, 874965758],\n",
       "        [        1,         2,         3, 876893171],\n",
       "        [        1,         3,         4, 878542960],\n",
       "        ...,\n",
       "        [      943,      1188,         3, 888640250],\n",
       "        [      943,      1228,         3, 888640275],\n",
       "        [      943,      1330,         3, 888692465]], dtype=int64)"
      ]
     },
     "execution_count": 97,
     "metadata": {},
     "output_type": "execute_result"
    }
   ],
   "source": [
    "rate_train = np.asmatrix(ratings_base)\n",
    "rate_train"
   ]
  },
  {
   "cell_type": "code",
   "execution_count": 98,
   "metadata": {},
   "outputs": [],
   "source": [
    "rate_test = np.asmatrix(ratings_test)"
   ]
  },
  {
   "cell_type": "code",
   "execution_count": 99,
   "metadata": {},
   "outputs": [
    {
     "name": "stdout",
     "output_type": "stream",
     "text": [
      "numbers of training rates:90570\n"
     ]
    },
    {
     "data": {
      "text/plain": [
       "'numbers of testing rates: 9430'"
      ]
     },
     "execution_count": 99,
     "metadata": {},
     "output_type": "execute_result"
    }
   ],
   "source": [
    "print(f'numbers of training rates:{rate_base.shape[0]}')\n",
    "f'numbers of testing rates: {rate_test.shape[0]}'"
   ]
  },
  {
   "cell_type": "code",
   "execution_count": 100,
   "metadata": {},
   "outputs": [
    {
     "data": {
      "text/html": [
       "<div>\n",
       "<style scoped>\n",
       "    .dataframe tbody tr th:only-of-type {\n",
       "        vertical-align: middle;\n",
       "    }\n",
       "\n",
       "    .dataframe tbody tr th {\n",
       "        vertical-align: top;\n",
       "    }\n",
       "\n",
       "    .dataframe thead th {\n",
       "        text-align: right;\n",
       "    }\n",
       "</style>\n",
       "<table border=\"1\" class=\"dataframe\">\n",
       "  <thead>\n",
       "    <tr style=\"text-align: right;\">\n",
       "      <th></th>\n",
       "      <th>movie id</th>\n",
       "      <th>movie title</th>\n",
       "      <th>release date</th>\n",
       "      <th>video release date</th>\n",
       "      <th>IMDb URL</th>\n",
       "      <th>unknown</th>\n",
       "      <th>Action</th>\n",
       "      <th>Adventure</th>\n",
       "      <th>Animation</th>\n",
       "      <th>Children's</th>\n",
       "      <th>...</th>\n",
       "      <th>Fantasy</th>\n",
       "      <th>Film-Noir</th>\n",
       "      <th>Horror</th>\n",
       "      <th>Musical</th>\n",
       "      <th>Mystery</th>\n",
       "      <th>Romance</th>\n",
       "      <th>Sci-Fi</th>\n",
       "      <th>Thriller</th>\n",
       "      <th>War</th>\n",
       "      <th>Western</th>\n",
       "    </tr>\n",
       "  </thead>\n",
       "  <tbody>\n",
       "    <tr>\n",
       "      <th>0</th>\n",
       "      <td>1</td>\n",
       "      <td>Toy Story (1995)</td>\n",
       "      <td>01-Jan-1995</td>\n",
       "      <td>NaN</td>\n",
       "      <td>http://us.imdb.com/M/title-exact?Toy%20Story%2...</td>\n",
       "      <td>0</td>\n",
       "      <td>0</td>\n",
       "      <td>0</td>\n",
       "      <td>1</td>\n",
       "      <td>1</td>\n",
       "      <td>...</td>\n",
       "      <td>0</td>\n",
       "      <td>0</td>\n",
       "      <td>0</td>\n",
       "      <td>0</td>\n",
       "      <td>0</td>\n",
       "      <td>0</td>\n",
       "      <td>0</td>\n",
       "      <td>0</td>\n",
       "      <td>0</td>\n",
       "      <td>0</td>\n",
       "    </tr>\n",
       "    <tr>\n",
       "      <th>1</th>\n",
       "      <td>2</td>\n",
       "      <td>GoldenEye (1995)</td>\n",
       "      <td>01-Jan-1995</td>\n",
       "      <td>NaN</td>\n",
       "      <td>http://us.imdb.com/M/title-exact?GoldenEye%20(...</td>\n",
       "      <td>0</td>\n",
       "      <td>1</td>\n",
       "      <td>1</td>\n",
       "      <td>0</td>\n",
       "      <td>0</td>\n",
       "      <td>...</td>\n",
       "      <td>0</td>\n",
       "      <td>0</td>\n",
       "      <td>0</td>\n",
       "      <td>0</td>\n",
       "      <td>0</td>\n",
       "      <td>0</td>\n",
       "      <td>0</td>\n",
       "      <td>1</td>\n",
       "      <td>0</td>\n",
       "      <td>0</td>\n",
       "    </tr>\n",
       "    <tr>\n",
       "      <th>2</th>\n",
       "      <td>3</td>\n",
       "      <td>Four Rooms (1995)</td>\n",
       "      <td>01-Jan-1995</td>\n",
       "      <td>NaN</td>\n",
       "      <td>http://us.imdb.com/M/title-exact?Four%20Rooms%...</td>\n",
       "      <td>0</td>\n",
       "      <td>0</td>\n",
       "      <td>0</td>\n",
       "      <td>0</td>\n",
       "      <td>0</td>\n",
       "      <td>...</td>\n",
       "      <td>0</td>\n",
       "      <td>0</td>\n",
       "      <td>0</td>\n",
       "      <td>0</td>\n",
       "      <td>0</td>\n",
       "      <td>0</td>\n",
       "      <td>0</td>\n",
       "      <td>1</td>\n",
       "      <td>0</td>\n",
       "      <td>0</td>\n",
       "    </tr>\n",
       "    <tr>\n",
       "      <th>3</th>\n",
       "      <td>4</td>\n",
       "      <td>Get Shorty (1995)</td>\n",
       "      <td>01-Jan-1995</td>\n",
       "      <td>NaN</td>\n",
       "      <td>http://us.imdb.com/M/title-exact?Get%20Shorty%...</td>\n",
       "      <td>0</td>\n",
       "      <td>1</td>\n",
       "      <td>0</td>\n",
       "      <td>0</td>\n",
       "      <td>0</td>\n",
       "      <td>...</td>\n",
       "      <td>0</td>\n",
       "      <td>0</td>\n",
       "      <td>0</td>\n",
       "      <td>0</td>\n",
       "      <td>0</td>\n",
       "      <td>0</td>\n",
       "      <td>0</td>\n",
       "      <td>0</td>\n",
       "      <td>0</td>\n",
       "      <td>0</td>\n",
       "    </tr>\n",
       "    <tr>\n",
       "      <th>4</th>\n",
       "      <td>5</td>\n",
       "      <td>Copycat (1995)</td>\n",
       "      <td>01-Jan-1995</td>\n",
       "      <td>NaN</td>\n",
       "      <td>http://us.imdb.com/M/title-exact?Copycat%20(1995)</td>\n",
       "      <td>0</td>\n",
       "      <td>0</td>\n",
       "      <td>0</td>\n",
       "      <td>0</td>\n",
       "      <td>0</td>\n",
       "      <td>...</td>\n",
       "      <td>0</td>\n",
       "      <td>0</td>\n",
       "      <td>0</td>\n",
       "      <td>0</td>\n",
       "      <td>0</td>\n",
       "      <td>0</td>\n",
       "      <td>0</td>\n",
       "      <td>1</td>\n",
       "      <td>0</td>\n",
       "      <td>0</td>\n",
       "    </tr>\n",
       "    <tr>\n",
       "      <th>...</th>\n",
       "      <td>...</td>\n",
       "      <td>...</td>\n",
       "      <td>...</td>\n",
       "      <td>...</td>\n",
       "      <td>...</td>\n",
       "      <td>...</td>\n",
       "      <td>...</td>\n",
       "      <td>...</td>\n",
       "      <td>...</td>\n",
       "      <td>...</td>\n",
       "      <td>...</td>\n",
       "      <td>...</td>\n",
       "      <td>...</td>\n",
       "      <td>...</td>\n",
       "      <td>...</td>\n",
       "      <td>...</td>\n",
       "      <td>...</td>\n",
       "      <td>...</td>\n",
       "      <td>...</td>\n",
       "      <td>...</td>\n",
       "      <td>...</td>\n",
       "    </tr>\n",
       "    <tr>\n",
       "      <th>1677</th>\n",
       "      <td>1678</td>\n",
       "      <td>Mat' i syn (1997)</td>\n",
       "      <td>06-Feb-1998</td>\n",
       "      <td>NaN</td>\n",
       "      <td>http://us.imdb.com/M/title-exact?Mat%27+i+syn+...</td>\n",
       "      <td>0</td>\n",
       "      <td>0</td>\n",
       "      <td>0</td>\n",
       "      <td>0</td>\n",
       "      <td>0</td>\n",
       "      <td>...</td>\n",
       "      <td>0</td>\n",
       "      <td>0</td>\n",
       "      <td>0</td>\n",
       "      <td>0</td>\n",
       "      <td>0</td>\n",
       "      <td>0</td>\n",
       "      <td>0</td>\n",
       "      <td>0</td>\n",
       "      <td>0</td>\n",
       "      <td>0</td>\n",
       "    </tr>\n",
       "    <tr>\n",
       "      <th>1678</th>\n",
       "      <td>1679</td>\n",
       "      <td>B. Monkey (1998)</td>\n",
       "      <td>06-Feb-1998</td>\n",
       "      <td>NaN</td>\n",
       "      <td>http://us.imdb.com/M/title-exact?B%2E+Monkey+(...</td>\n",
       "      <td>0</td>\n",
       "      <td>0</td>\n",
       "      <td>0</td>\n",
       "      <td>0</td>\n",
       "      <td>0</td>\n",
       "      <td>...</td>\n",
       "      <td>0</td>\n",
       "      <td>0</td>\n",
       "      <td>0</td>\n",
       "      <td>0</td>\n",
       "      <td>0</td>\n",
       "      <td>1</td>\n",
       "      <td>0</td>\n",
       "      <td>1</td>\n",
       "      <td>0</td>\n",
       "      <td>0</td>\n",
       "    </tr>\n",
       "    <tr>\n",
       "      <th>1679</th>\n",
       "      <td>1680</td>\n",
       "      <td>Sliding Doors (1998)</td>\n",
       "      <td>01-Jan-1998</td>\n",
       "      <td>NaN</td>\n",
       "      <td>http://us.imdb.com/Title?Sliding+Doors+(1998)</td>\n",
       "      <td>0</td>\n",
       "      <td>0</td>\n",
       "      <td>0</td>\n",
       "      <td>0</td>\n",
       "      <td>0</td>\n",
       "      <td>...</td>\n",
       "      <td>0</td>\n",
       "      <td>0</td>\n",
       "      <td>0</td>\n",
       "      <td>0</td>\n",
       "      <td>0</td>\n",
       "      <td>1</td>\n",
       "      <td>0</td>\n",
       "      <td>0</td>\n",
       "      <td>0</td>\n",
       "      <td>0</td>\n",
       "    </tr>\n",
       "    <tr>\n",
       "      <th>1680</th>\n",
       "      <td>1681</td>\n",
       "      <td>You So Crazy (1994)</td>\n",
       "      <td>01-Jan-1994</td>\n",
       "      <td>NaN</td>\n",
       "      <td>http://us.imdb.com/M/title-exact?You%20So%20Cr...</td>\n",
       "      <td>0</td>\n",
       "      <td>0</td>\n",
       "      <td>0</td>\n",
       "      <td>0</td>\n",
       "      <td>0</td>\n",
       "      <td>...</td>\n",
       "      <td>0</td>\n",
       "      <td>0</td>\n",
       "      <td>0</td>\n",
       "      <td>0</td>\n",
       "      <td>0</td>\n",
       "      <td>0</td>\n",
       "      <td>0</td>\n",
       "      <td>0</td>\n",
       "      <td>0</td>\n",
       "      <td>0</td>\n",
       "    </tr>\n",
       "    <tr>\n",
       "      <th>1681</th>\n",
       "      <td>1682</td>\n",
       "      <td>Scream of Stone (Schrei aus Stein) (1991)</td>\n",
       "      <td>08-Mar-1996</td>\n",
       "      <td>NaN</td>\n",
       "      <td>http://us.imdb.com/M/title-exact?Schrei%20aus%...</td>\n",
       "      <td>0</td>\n",
       "      <td>0</td>\n",
       "      <td>0</td>\n",
       "      <td>0</td>\n",
       "      <td>0</td>\n",
       "      <td>...</td>\n",
       "      <td>0</td>\n",
       "      <td>0</td>\n",
       "      <td>0</td>\n",
       "      <td>0</td>\n",
       "      <td>0</td>\n",
       "      <td>0</td>\n",
       "      <td>0</td>\n",
       "      <td>0</td>\n",
       "      <td>0</td>\n",
       "      <td>0</td>\n",
       "    </tr>\n",
       "  </tbody>\n",
       "</table>\n",
       "<p>1682 rows × 24 columns</p>\n",
       "</div>"
      ],
      "text/plain": [
       "      movie id                                movie title release date  \\\n",
       "0            1                           Toy Story (1995)  01-Jan-1995   \n",
       "1            2                           GoldenEye (1995)  01-Jan-1995   \n",
       "2            3                          Four Rooms (1995)  01-Jan-1995   \n",
       "3            4                          Get Shorty (1995)  01-Jan-1995   \n",
       "4            5                             Copycat (1995)  01-Jan-1995   \n",
       "...        ...                                        ...          ...   \n",
       "1677      1678                          Mat' i syn (1997)  06-Feb-1998   \n",
       "1678      1679                           B. Monkey (1998)  06-Feb-1998   \n",
       "1679      1680                       Sliding Doors (1998)  01-Jan-1998   \n",
       "1680      1681                        You So Crazy (1994)  01-Jan-1994   \n",
       "1681      1682  Scream of Stone (Schrei aus Stein) (1991)  08-Mar-1996   \n",
       "\n",
       "      video release date                                           IMDb URL  \\\n",
       "0                    NaN  http://us.imdb.com/M/title-exact?Toy%20Story%2...   \n",
       "1                    NaN  http://us.imdb.com/M/title-exact?GoldenEye%20(...   \n",
       "2                    NaN  http://us.imdb.com/M/title-exact?Four%20Rooms%...   \n",
       "3                    NaN  http://us.imdb.com/M/title-exact?Get%20Shorty%...   \n",
       "4                    NaN  http://us.imdb.com/M/title-exact?Copycat%20(1995)   \n",
       "...                  ...                                                ...   \n",
       "1677                 NaN  http://us.imdb.com/M/title-exact?Mat%27+i+syn+...   \n",
       "1678                 NaN  http://us.imdb.com/M/title-exact?B%2E+Monkey+(...   \n",
       "1679                 NaN      http://us.imdb.com/Title?Sliding+Doors+(1998)   \n",
       "1680                 NaN  http://us.imdb.com/M/title-exact?You%20So%20Cr...   \n",
       "1681                 NaN  http://us.imdb.com/M/title-exact?Schrei%20aus%...   \n",
       "\n",
       "      unknown  Action  Adventure  Animation  Children's  ...  Fantasy  \\\n",
       "0           0       0          0          1           1  ...        0   \n",
       "1           0       1          1          0           0  ...        0   \n",
       "2           0       0          0          0           0  ...        0   \n",
       "3           0       1          0          0           0  ...        0   \n",
       "4           0       0          0          0           0  ...        0   \n",
       "...       ...     ...        ...        ...         ...  ...      ...   \n",
       "1677        0       0          0          0           0  ...        0   \n",
       "1678        0       0          0          0           0  ...        0   \n",
       "1679        0       0          0          0           0  ...        0   \n",
       "1680        0       0          0          0           0  ...        0   \n",
       "1681        0       0          0          0           0  ...        0   \n",
       "\n",
       "      Film-Noir  Horror  Musical  Mystery  Romance  Sci-Fi  Thriller  War  \\\n",
       "0             0       0        0        0        0       0         0    0   \n",
       "1             0       0        0        0        0       0         1    0   \n",
       "2             0       0        0        0        0       0         1    0   \n",
       "3             0       0        0        0        0       0         0    0   \n",
       "4             0       0        0        0        0       0         1    0   \n",
       "...         ...     ...      ...      ...      ...     ...       ...  ...   \n",
       "1677          0       0        0        0        0       0         0    0   \n",
       "1678          0       0        0        0        1       0         1    0   \n",
       "1679          0       0        0        0        1       0         0    0   \n",
       "1680          0       0        0        0        0       0         0    0   \n",
       "1681          0       0        0        0        0       0         0    0   \n",
       "\n",
       "      Western  \n",
       "0           0  \n",
       "1           0  \n",
       "2           0  \n",
       "3           0  \n",
       "4           0  \n",
       "...       ...  \n",
       "1677        0  \n",
       "1678        0  \n",
       "1679        0  \n",
       "1680        0  \n",
       "1681        0  \n",
       "\n",
       "[1682 rows x 24 columns]"
      ]
     },
     "execution_count": 100,
     "metadata": {},
     "output_type": "execute_result"
    }
   ],
   "source": [
    "# Structuring product information\n",
    "i_cols = ['movie id', 'movie title' ,'release date','video release date', 'IMDb URL', 'unknown', 'Action', 'Adventure', 'Animation', 'Children\\'s',\n",
    "'Comedy', 'Crime', 'Documentary', 'Drama', 'Fantasy', 'Film-Noir', 'Horror', 'Musical', 'Mystery', 'Romance', 'Sci-Fi', 'Thriller', 'War', 'Western']\n",
    "items = pd.read_csv(path + 'u.item',sep = '|',encoding='latin-1',names = i_cols)\n",
    "items"
   ]
  },
  {
   "cell_type": "code",
   "execution_count": 101,
   "metadata": {},
   "outputs": [
    {
     "data": {
      "text/plain": [
       "matrix([[0, 0, 0, ..., 0, 0, 0],\n",
       "        [0, 1, 1, ..., 1, 0, 0],\n",
       "        [0, 0, 0, ..., 1, 0, 0],\n",
       "        ...,\n",
       "        [0, 0, 0, ..., 0, 0, 0],\n",
       "        [0, 0, 0, ..., 0, 0, 0],\n",
       "        [0, 0, 0, ..., 0, 0, 0]], dtype=object)"
      ]
     },
     "execution_count": 101,
     "metadata": {},
     "output_type": "execute_result"
    }
   ],
   "source": [
    "X0 = np.asmatrix(items)\n",
    "X_train_counts = X0[:,-19:]\n",
    "X_train_counts"
   ]
  },
  {
   "cell_type": "code",
   "execution_count": 102,
   "metadata": {},
   "outputs": [
    {
     "name": "stdout",
     "output_type": "stream",
     "text": [
      "[[        1         1         5 874965758]\n",
      " [        1         2         3 876893171]\n",
      " [        1         3         4 878542960]\n",
      " [        1         4         3 876893119]]\n"
     ]
    }
   ],
   "source": [
    "print(rate_train[:4])"
   ]
  },
  {
   "cell_type": "code",
   "execution_count": 103,
   "metadata": {},
   "outputs": [
    {
     "data": {
      "text/plain": [
       "array([0, 1, 1, 0, 0, 0, 0, 0, 0, 0, 0, 0, 0, 0, 0, 0, 1, 0, 0],\n",
       "      dtype=object)"
      ]
     },
     "execution_count": 103,
     "metadata": {},
     "output_type": "execute_result"
    }
   ],
   "source": [
    "#tfidf\n",
    "from sklearn.feature_extraction.text import TfidfTransformer\n",
    "transformer = TfidfTransformer(smooth_idf=True,norm = 'l2')\n",
    "X1 = transformer.fit(np.asarray(X_train_counts))\n",
    "X = np.asarray(X_train_counts)\n",
    "X[1,:]\n"
   ]
  },
  {
   "cell_type": "code",
   "execution_count": 104,
   "metadata": {},
   "outputs": [
    {
     "data": {
      "text/plain": [
       "3"
      ]
     },
     "execution_count": 104,
     "metadata": {},
     "output_type": "execute_result"
    }
   ],
   "source": [
    "rate_train[1,2]"
   ]
  },
  {
   "cell_type": "code",
   "execution_count": 139,
   "metadata": {},
   "outputs": [],
   "source": [
    "def get_items_rated_by_user(rate_matrix,user_id):\n",
    "    y = rate_matrix[:,0] # get all user\n",
    "    # item indices rated by user_id\n",
    "    # we need to +1 to user_id since in the rate_matrix, id starts from 1\n",
    "    # but id in python starts from 0\n",
    "    ids = np.where(y==user_id+1)[0]\n",
    "    \n",
    "    item_ids = rate_matrix[ids,1]-1\n",
    "    scores = rate_matrix[ids,2]\n",
    "    return (item_ids.reshape(-1).tolist()[0],scores.reshape(-1).tolist()[0])\n"
   ]
  },
  {
   "cell_type": "code",
   "execution_count": 111,
   "metadata": {},
   "outputs": [
    {
     "data": {
      "text/plain": [
       "(matrix([[180],\n",
       "         [257],\n",
       "         [259],\n",
       "         [263],\n",
       "         [267],\n",
       "         [270],\n",
       "         [271],\n",
       "         [287],\n",
       "         [298],\n",
       "         [299],\n",
       "         [301],\n",
       "         [302],\n",
       "         [306],\n",
       "         [316],\n",
       "         [317],\n",
       "         [318],\n",
       "         [319],\n",
       "         [320],\n",
       "         [321],\n",
       "         [323],\n",
       "         [324],\n",
       "         [325],\n",
       "         [326],\n",
       "         [328],\n",
       "         [329],\n",
       "         [332],\n",
       "         [335],\n",
       "         [337],\n",
       "         [338],\n",
       "         [339],\n",
       "         [340],\n",
       "         [341],\n",
       "         [343],\n",
       "         [344],\n",
       "         [345],\n",
       "         [346],\n",
       "         [347],\n",
       "         [348],\n",
       "         [349],\n",
       "         [350],\n",
       "         [351],\n",
       "         [352],\n",
       "         [353],\n",
       "         [354]], dtype=int64),\n",
       " matrix([[4],\n",
       "         [2],\n",
       "         [4],\n",
       "         [2],\n",
       "         [3],\n",
       "         [3],\n",
       "         [2],\n",
       "         [2],\n",
       "         [3],\n",
       "         [2],\n",
       "         [2],\n",
       "         [3],\n",
       "         [3],\n",
       "         [2],\n",
       "         [4],\n",
       "         [2],\n",
       "         [5],\n",
       "         [5],\n",
       "         [3],\n",
       "         [2],\n",
       "         [1],\n",
       "         [2],\n",
       "         [4],\n",
       "         [4],\n",
       "         [2],\n",
       "         [2],\n",
       "         [1],\n",
       "         [2],\n",
       "         [3],\n",
       "         [5],\n",
       "         [1],\n",
       "         [4],\n",
       "         [4],\n",
       "         [3],\n",
       "         [5],\n",
       "         [5],\n",
       "         [4],\n",
       "         [3],\n",
       "         [3],\n",
       "         [3],\n",
       "         [2],\n",
       "         [1],\n",
       "         [3],\n",
       "         [3]], dtype=int64))"
      ]
     },
     "execution_count": 111,
     "metadata": {},
     "output_type": "execute_result"
    }
   ],
   "source": [
    "get_items_rated_by_user(rate_train,2)"
   ]
  },
  {
   "cell_type": "code",
   "execution_count": 131,
   "metadata": {},
   "outputs": [
    {
     "name": "stdout",
     "output_type": "stream",
     "text": [
      "[4, 2, 4, 3, 4, 5, 4, 5, 4, 5, 4, 4, 3, 4, 5, 4, 3, 5, 4, 4, 3, 4, 4, 5, 4, 5, 4, 3, 3, 3, 3, 4, 1, 4, 3, 3, 4, 4, 4, 5, 4, 4, 3, 4, 3, 3, 1, 4, 5, 5, 1, 5]\n"
     ]
    },
    {
     "data": {
      "text/plain": [
       "array([[[0, 0, 0, 1, 1, 1, 0, 0, 0, 0, 0, 0, 0, 0, 0, 0, 0, 0, 0]]],\n",
       "      dtype=object)"
      ]
     },
     "execution_count": 131,
     "metadata": {},
     "output_type": "execute_result"
    }
   ],
   "source": [
    "ids,scores = get_items_rated_by_user(rate_train,1)\n",
    "np.asarray(ids)\n",
    "\n",
    "print(scores.reshape(-1).tolist()[0])\n",
    "Xhat = X[ids[0],:]\n",
    "Xhat"
   ]
  },
  {
   "cell_type": "code",
   "execution_count": 114,
   "metadata": {},
   "outputs": [
    {
     "name": "stdout",
     "output_type": "stream",
     "text": [
      "19\n"
     ]
    }
   ],
   "source": [
    "print(X.shape[1])"
   ]
  },
  {
   "cell_type": "code",
   "execution_count": 140,
   "metadata": {},
   "outputs": [],
   "source": [
    "# find weight of coef\n",
    "from sklearn.linear_model import Ridge\n",
    "from sklearn import linear_model\n",
    "d = X.shape[1]\n",
    "W = np.zeros((d,n_users))\n",
    "b = np.zeros(n_users)\n",
    "for n in range(n_users):\n",
    "    (ids,scores) = get_items_rated_by_user(rate_train,n)\n",
    "  \n",
    "\n",
    "    model = Ridge(alpha=0.01,fit_intercept=True)\n",
    "    Xhat = X[ids,:]\n",
    "    model.fit(Xhat,scores)\n",
    "    W[:,n] = model.coef_\n",
    "    b[n] = model.intercept_"
   ]
  },
  {
   "cell_type": "code",
   "execution_count": 141,
   "metadata": {},
   "outputs": [
    {
     "name": "stdout",
     "output_type": "stream",
     "text": [
      "Rated movies ids : [37, 109, 110, 226, 424, 557, 722, 724, 731, 739]\n",
      "True ratings : [3, 3, 4, 3, 4, 3, 5, 3, 3, 4]\n",
      "Predicted ratings: [3.178632469570199 2.9570842918322215 3.4024255625477813\n",
      " 3.0502454415218785 3.392863763422993 5.196497621466598 3.9272023855358635\n",
      " 3.392863763422993 3.4024255625477813 3.7755936902565006]\n"
     ]
    },
    {
     "data": {
      "text/plain": [
       "'Rated movies ids : [ 37 109 110 226 424 557 722 724 731 739]\\nTrue ratings : [3 3 4 3 4 3 5 3 3 4]\\nPredicted ratings: [3.18 3.13 3.42 3.09 3.35 5.2 4.01 3.35 3.42 3.72]'"
      ]
     },
     "execution_count": 141,
     "metadata": {},
     "output_type": "execute_result"
    }
   ],
   "source": [
    "Yhat = X.dot(W) + b\n",
    "n = 10\n",
    "np.set_printoptions(precision=2) # 2 digits after .\n",
    "ids, scores = get_items_rated_by_user(rate_test, n)\n",
    "print('Rated movies ids :', ids )\n",
    "print('True ratings :', scores)\n",
    "print('Predicted ratings:', Yhat[ids, n])\n",
    "\"\"\"Rated movies ids : [ 37 109 110 226 424 557 722 724 731 739]\n",
    "True ratings : [3 3 4 3 4 3 5 3 3 4]\n",
    "Predicted ratings: [3.18 3.13 3.42 3.09 3.35 5.2 4.01 3.35 3.42 3.72]\"\"\"\n"
   ]
  },
  {
   "cell_type": "code",
   "execution_count": 142,
   "metadata": {},
   "outputs": [
    {
     "name": "stdout",
     "output_type": "stream",
     "text": [
      "RMSE for training: 0.91\n",
      "RMSE for test : 1.28\n"
     ]
    },
    {
     "data": {
      "text/plain": [
       "'RMSE for training: 0.91\\nRMSE for test : 1.27'"
      ]
     },
     "execution_count": 142,
     "metadata": {},
     "output_type": "execute_result"
    }
   ],
   "source": [
    "def evaluate(Yhat, rates, W, b):\n",
    "    se = cnt = 0\n",
    "    for n in range(n_users):\n",
    "        ids, scores_truth = get_items_rated_by_user(rates, n)\n",
    "        scores_pred = Yhat[ids, n]\n",
    "        e = scores_truth - scores_pred\n",
    "        se += (e*e).sum(axis = 0)\n",
    "        cnt += e.size\n",
    "    return np.sqrt(se/cnt)\n",
    "print('RMSE for training: %.2f' %evaluate(Yhat, rate_train, W, b))\n",
    "print('RMSE for test : %.2f' %evaluate(Yhat, rate_test, W, b))\n",
    "\"\"\"RMSE for training: 0.91\n",
    "RMSE for test : 1.27\"\"\""
   ]
  }
 ],
 "metadata": {
  "kernelspec": {
   "display_name": "Python 3",
   "language": "python",
   "name": "python3"
  },
  "language_info": {
   "codemirror_mode": {
    "name": "ipython",
    "version": 3
   },
   "file_extension": ".py",
   "mimetype": "text/x-python",
   "name": "python",
   "nbconvert_exporter": "python",
   "pygments_lexer": "ipython3",
   "version": "3.10.4"
  },
  "orig_nbformat": 4,
  "vscode": {
   "interpreter": {
    "hash": "8c3d4d9970fc5c09c50d9318a9c7fbf4d0159e4b28833276f5678ee22bded273"
   }
  }
 },
 "nbformat": 4,
 "nbformat_minor": 2
}
